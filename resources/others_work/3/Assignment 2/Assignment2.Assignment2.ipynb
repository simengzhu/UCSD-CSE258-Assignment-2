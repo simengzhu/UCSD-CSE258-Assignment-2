{
 "cells": [
  {
   "cell_type": "code",
   "execution_count": 1,
   "metadata": {
    "collapsed": true
   },
   "outputs": [],
   "source": [
    "import csv\n",
    "import numpy as np\n",
    "import math\n",
    "from sklearn import svm\n",
    "from sklearn.metrics import mean_absolute_error, mean_squared_error"
   ]
  },
  {
   "cell_type": "code",
   "execution_count": 2,
   "metadata": {
    "collapsed": false
   },
   "outputs": [
    {
     "name": "stdout",
     "output_type": "stream",
     "text": [
      "Attributes: ['age', 'job', 'marital', 'education', 'default', 'balance', 'housing', 'loan', 'contact', 'day', 'month', 'duration', 'campaign', 'pdays', 'previous', 'poutcome', 'y']\n",
      "Number of data 45211\n"
     ]
    }
   ],
   "source": [
    "# Read csv to list\n",
    "with open('bank-full.csv', 'rb') as csvfile:\n",
    "    reader = csv.reader(csvfile, delimiter=';')\n",
    "    content = []\n",
    "    for row in reader:\n",
    "        content.append(row)\n",
    "attributes = content[0]\n",
    "content = content[1:]\n",
    "print 'Attributes:', attributes\n",
    "print 'Number of data', len(content)"
   ]
  },
  {
   "cell_type": "code",
   "execution_count": 7,
   "metadata": {
    "collapsed": false,
    "scrolled": true
   },
   "outputs": [
    {
     "data": {
      "text/plain": [
       "5289"
      ]
     },
     "execution_count": 7,
     "metadata": {},
     "output_type": "execute_result"
    }
   ],
   "source": [
    "len([x for x in content if x[16] == 'yes' ])"
   ]
  },
  {
   "cell_type": "code",
   "execution_count": 8,
   "metadata": {
    "collapsed": false
   },
   "outputs": [],
   "source": [
    "# Encode data\n",
    "data = []\n",
    "for row in content:\n",
    "    thisData = {}\n",
    "    for i, att in enumerate(row):\n",
    "        if attributes[i] in set(['age','balance','day','duration','campaign','pdays','previous']):\n",
    "            thisData[attributes[i]] = int(att)\n",
    "        elif attributes[i] == 'month': # jan to dec\n",
    "             thisData[attributes[i]] = att\n",
    "        elif attributes[i] in ['default', 'housing', 'loan', 'y']: #['yes', 'no']\n",
    "            thisData[attributes[i]] = 1 if att == 'yes' else 0\n",
    "        elif attributes[i] == 'job': #['management', 'retired', 'self-employed', 'unknown', 'unemployed', 'housemaid', 'admin.', 'entrepreneur', 'services', 'student', 'technician', 'blue-collar']\n",
    "            thisData[attributes[i]] = att\n",
    "        elif attributes[i] == 'marital': #['single', 'married', 'divorced']\n",
    "            thisData[attributes[i]] = att\n",
    "        elif attributes[i] == 'education': #['unknown', 'primary', 'tertiary', 'secondary']\n",
    "            thisData[attributes[i]] = att \n",
    "        elif attributes[i] == 'contact':# ['unknown', 'telephone', 'cellular']\n",
    "            thisData[attributes[i]] = att\n",
    "        elif attributes[i] == 'poutcome': #['unknown', 'other', 'success', 'failure']\n",
    "            thisData[attributes[i]] = att\n",
    "        else:\n",
    "            print 'error'\n",
    "    data.append(thisData)"
   ]
  },
  {
   "cell_type": "code",
   "execution_count": 9,
   "metadata": {
    "collapsed": false
   },
   "outputs": [],
   "source": [
    "# Split data to 6:2:2\n",
    "np.random.seed(0)\n",
    "np.random.shuffle(data)\n",
    "trainingData = data[:int(len(data)*0.6)]\n",
    "validationData = data[int(len(data)*0.6):int(len(data)*0.8)]\n",
    "testData = data[int(len(data)*0.8):]"
   ]
  },
  {
   "cell_type": "code",
   "execution_count": 86,
   "metadata": {
    "collapsed": false
   },
   "outputs": [
    {
     "data": {
      "text/plain": [
       "0.11597729115977291"
      ]
     },
     "execution_count": 86,
     "metadata": {},
     "output_type": "execute_result"
    }
   ],
   "source": [
    "len([x for x in trainingData if x['y'] == 1 ]) * 1. / len(trainingData)"
   ]
  },
  {
   "cell_type": "code",
   "execution_count": 98,
   "metadata": {
    "collapsed": false
   },
   "outputs": [
    {
     "data": {
      "text/plain": [
       "5289"
      ]
     },
     "execution_count": 98,
     "metadata": {},
     "output_type": "execute_result"
    }
   ],
   "source": [
    "len([x for x in content if x[16] == 'yes' ])"
   ]
  },
  {
   "cell_type": "code",
   "execution_count": 12,
   "metadata": {
    "collapsed": false
   },
   "outputs": [],
   "source": [
    "educationDic = {'unknown':0, 'primary':1, 'secondary':2, 'tertiary':3}\n",
    "def encodeEducation(education):\n",
    "    feat = [0]*4\n",
    "    feat[educationDic[education]] = 1\n",
    "    return feat"
   ]
  },
  {
   "cell_type": "code",
   "execution_count": 13,
   "metadata": {
    "collapsed": true
   },
   "outputs": [],
   "source": [
    "maritalDic = {'single':0, 'married':1, 'divorced':2}\n",
    "def encodeMarital(marital):\n",
    "    feat = [0]*3\n",
    "    feat[maritalDic[marital]] = 1\n",
    "    return feat"
   ]
  },
  {
   "cell_type": "code",
   "execution_count": 14,
   "metadata": {
    "collapsed": true
   },
   "outputs": [],
   "source": [
    "jobs = list(set([d['job'] for d in data]))\n",
    "jobDic = {j:i for i,j in enumerate(jobs)}\n",
    "def encodeJob(job):\n",
    "    feat = [0]*len(jobs)\n",
    "    feat[jobDic[job]] = 1\n",
    "    return feat"
   ]
  },
  {
   "cell_type": "code",
   "execution_count": 15,
   "metadata": {
    "collapsed": true
   },
   "outputs": [],
   "source": [
    "contactDic = {'unknown':0, 'telephone':1, 'cellular':2}\n",
    "def encodeContact(contact):\n",
    "    feat = [0] * 3\n",
    "    feat[contactDic[contact]] = 1\n",
    "    return feat"
   ]
  },
  {
   "cell_type": "code",
   "execution_count": 287,
   "metadata": {
    "collapsed": true
   },
   "outputs": [],
   "source": [
    "import calendar\n",
    "monthDic = {v.lower(): k for k,v in enumerate(calendar.month_abbr)}\n",
    "def encodeMonth(month):\n",
    "    feat = [0] * 13\n",
    "    feat[monthDic[month]] = 1\n",
    "    return feat"
   ]
  },
  {
   "cell_type": "code",
   "execution_count": 288,
   "metadata": {
    "collapsed": true
   },
   "outputs": [],
   "source": [
    "outcomeDic = {'unknown':0, 'other':1, 'failure':2, 'success':3}\n",
    "def encodeOutcome(outcome):\n",
    "    feat = [0] * 4\n",
    "    feat[outcomeDic[outcome]] = 1\n",
    "    return feat"
   ]
  },
  {
   "cell_type": "code",
   "execution_count": 294,
   "metadata": {
    "collapsed": true
   },
   "outputs": [],
   "source": [
    "def encodeAge(age):\n",
    "    if age <= 25 or age >= 60:\n",
    "        return [1]\n",
    "    else:\n",
    "        return [0]"
   ]
  },
  {
   "cell_type": "code",
   "execution_count": 311,
   "metadata": {
    "collapsed": false
   },
   "outputs": [],
   "source": [
    "def generateFeature(dataset):\n",
    "    features = []\n",
    "    for data in dataset:\n",
    "#         feat = [data['age']] + encodeJob(data['job']) + encodeMarital(data['marital']) + encodeEducation(data['education']) \\\n",
    "#             + [data['default'], data['balance'], data['housing'], data['loan']] \\\n",
    "#         + encodeContact(data['contact']) + [data['day']] + encodeMonth(data['month']) + [data['duration']] \\\n",
    "#         + [data['campaign'], data['pdays'], data['previous']] + encodeOutcome(data['poutcome'])\n",
    "        \n",
    "        feat = [data['age'], data['duration'], data['previous'], data['pdays'], data['campaign']] + encodeMonth(data['month']) + encodeOutcome(data['poutcome'])\n",
    "\n",
    "        features.append(feat)\n",
    "    return features"
   ]
  },
  {
   "cell_type": "code",
   "execution_count": 304,
   "metadata": {
    "collapsed": true
   },
   "outputs": [],
   "source": [
    "cwList = []\n",
    "trainList = []\n",
    "validList = []\n",
    "def errorRate(pred, label):\n",
    "    truePositives = len(filter(lambda x: x[0] == x[1] == True, zip(pred, label)))\n",
    "    trueNegatives = len(filter(lambda x: x[0] == x[1] == False, zip(pred, label)))\n",
    "    falsePositives = len(filter(lambda x: x[0] == True and x[1] == False, zip(pred, label)))\n",
    "    falseNegatives = len(filter(lambda x: x[0] == False and x[1] == True, zip(pred, label)))\n",
    "    truePositiveRate = truePositives * 1. / (truePositives + falseNegatives)\n",
    "    trueNegativeRate = trueNegatives * 1. / (trueNegatives + falsePositives)\n",
    "    balanceErrorRate = 1 - 0.5 * (truePositiveRate + trueNegativeRate)\n",
    "    print \"True Positives:\", truePositives\n",
    "    print \"True Negatives:\", trueNegatives\n",
    "    print \"False Positives:\", falsePositives\n",
    "    print \"False Negatives:\", falseNegatives\n",
    "    print \"True Positive Rate:\", truePositiveRate\n",
    "    print \"True Negative Rate:\", trueNegativeRate\n",
    "    print \"Balanced Error Rate:\", balanceErrorRate\n",
    "    return truePositives, trueNegatives, falsePositives, falseNegatives, truePositiveRate, trueNegativeRate, balanceErrorRate"
   ]
  },
  {
   "cell_type": "code",
   "execution_count": 305,
   "metadata": {
    "collapsed": false
   },
   "outputs": [],
   "source": [
    "X_train = generateFeature(trainingData)\n",
    "y_train = [d['y'] for d in trainingData]\n",
    "X_validation = generateFeature(validationData)\n",
    "y_validation = [d['y'] for d in validationData]\n",
    "X_test = generateFeature(testData)\n",
    "y_test = [d['y'] for d in testData]"
   ]
  },
  {
   "cell_type": "code",
   "execution_count": 306,
   "metadata": {
    "collapsed": false
   },
   "outputs": [
    {
     "data": {
      "text/plain": [
       "SVC(C=0.1, cache_size=200, class_weight={0: 1, 1: 5}, coef0=0.0,\n",
       "  decision_function_shape=None, degree=3, gamma='auto', kernel='rbf',\n",
       "  max_iter=-1, probability=False, random_state=None, shrinking=True,\n",
       "  tol=0.001, verbose=False)"
      ]
     },
     "execution_count": 306,
     "metadata": {},
     "output_type": "execute_result"
    }
   ],
   "source": [
    "clf = svm.SVC(C=0.1, class_weight = {0:1, 1:5})\n",
    "# from sklearn import linear_model\n",
    "# clf = linear_model.Ridge(1.0, fit_intercept = True)\n",
    "# clf = linear_model.LinearRegression(fit_intercept=True)\n",
    "clf.fit(X_train, y_train)"
   ]
  },
  {
   "cell_type": "code",
   "execution_count": 307,
   "metadata": {
    "collapsed": false
   },
   "outputs": [],
   "source": [
    "trainingPredict = clf.predict(X_train)"
   ]
  },
  {
   "cell_type": "code",
   "execution_count": 308,
   "metadata": {
    "collapsed": true
   },
   "outputs": [],
   "source": [
    "validationPredict = clf.predict(X_validation)"
   ]
  },
  {
   "cell_type": "code",
   "execution_count": 309,
   "metadata": {
    "collapsed": false
   },
   "outputs": [
    {
     "name": "stdout",
     "output_type": "stream",
     "text": [
      "True Positives: 0\n",
      "True Negatives: 7972\n",
      "False Positives: 0\n",
      "False Negatives: 1070\n",
      "True Positive Rate: 0.0\n",
      "True Negative Rate: 1.0\n",
      "Balanced Error Rate: 0.5\n"
     ]
    },
    {
     "data": {
      "text/plain": [
       "(0, 7972, 0, 1070, 0.0, 1.0, 0.5)"
      ]
     },
     "execution_count": 309,
     "metadata": {},
     "output_type": "execute_result"
    }
   ],
   "source": [
    "errorRate(validationPredict, y_validation)"
   ]
  },
  {
   "cell_type": "code",
   "execution_count": 310,
   "metadata": {
    "collapsed": false
   },
   "outputs": [
    {
     "name": "stdout",
     "output_type": "stream",
     "text": [
      "True Positives: 1\n",
      "True Negatives: 23980\n",
      "False Positives: 0\n",
      "False Negatives: 3145\n",
      "True Positive Rate: 0.000317863954228\n",
      "True Negative Rate: 1.0\n",
      "Balanced Error Rate: 0.499841068023\n",
      "True Positives: 0\n",
      "True Negatives: 7972\n",
      "False Positives: 0\n",
      "False Negatives: 1070\n",
      "True Positive Rate: 0.0\n",
      "True Negative Rate: 1.0\n",
      "Balanced Error Rate: 0.5\n"
     ]
    }
   ],
   "source": [
    "trainList.append(errorRate(trainingPredict, y_train))\n",
    "validList.append(errorRate(validationPredict, y_validation))"
   ]
  },
  {
   "cell_type": "code",
   "execution_count": 200,
   "metadata": {
    "collapsed": false
   },
   "outputs": [
    {
     "data": {
      "text/plain": [
       "0.5558381809736569"
      ]
     },
     "execution_count": 200,
     "metadata": {},
     "output_type": "execute_result"
    }
   ],
   "source": [
    "len([x for x in content if x[6] == 'yes']) * 1. / len(content)"
   ]
  },
  {
   "cell_type": "code",
   "execution_count": 289,
   "metadata": {
    "collapsed": false
   },
   "outputs": [
    {
     "data": {
      "text/plain": [
       "False"
      ]
     },
     "execution_count": 289,
     "metadata": {},
     "output_type": "execute_result"
    }
   ],
   "source": [
    "trainingData[0]['age'] < 20"
   ]
  },
  {
   "cell_type": "code",
   "execution_count": 312,
   "metadata": {
    "collapsed": false
   },
   "outputs": [
    {
     "data": {
      "text/plain": [
       "3"
      ]
     },
     "execution_count": 312,
     "metadata": {},
     "output_type": "execute_result"
    }
   ],
   "source": [
    "len([1,2,4,])"
   ]
  }
 ],
 "metadata": {
  "anaconda-cloud": {},
  "kernelspec": {
   "display_name": "Python [default]",
   "language": "python",
   "name": "python2"
  },
  "language_info": {
   "codemirror_mode": {
    "name": "ipython",
    "version": 2
   },
   "file_extension": ".py",
   "mimetype": "text/x-python",
   "name": "python",
   "nbconvert_exporter": "python",
   "pygments_lexer": "ipython2",
   "version": "2.7.12"
  }
 },
 "nbformat": 4,
 "nbformat_minor": 2
}
