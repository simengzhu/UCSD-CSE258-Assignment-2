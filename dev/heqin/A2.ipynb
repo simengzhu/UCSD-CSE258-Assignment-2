{
 "cells": [
  {
   "cell_type": "code",
   "execution_count": 27,
   "metadata": {},
   "outputs": [
    {
     "name": "stdout",
     "output_type": "stream",
     "text": [
      "[('2642103', ('13', '09')), ('3654879', ('14', '09')), ('4257519', ('15', '09')), ('4489199', ('16', '09')), ('4633101', ('17', '09')), ('4744488', ('18', '09')), ('4804702', ('19', '09'))]\n"
     ]
    },
    {
     "data": {
      "image/png": "[encoded data removed]",
      "text/plain": [
       "<matplotlib.figure.Figure at 0x10ae29d30>"
      ]
     },
     "metadata": {},
     "output_type": "display_data"
    }
   ],
   "source": [
    "import numpy\n",
    "import urllib\n",
    "import scipy.optimize\n",
    "\n",
    "import random\n",
    "from collections import defaultdict\n",
    "import nltk\n",
    "import string\n",
    "from nltk.stem.porter import *\n",
    "from sklearn import linear_model\n",
    "import pandas as pd\n",
    "\n",
    "\n",
    "\n",
    "# data = pd.read_csv('USvideos.csv')\n",
    "with open('USvideos.csv') as dfile:\n",
    "    header = dfile.readline()\n",
    "    \n",
    "    dates = [(l.strip().split(',')[-6], tuple(l.strip().split(',')[-1].split('.')) \n",
    "             if l.strip().split(',')[1]=='\\\"Apple iPhone X first look\\\"' else None) \n",
    "             for l in dfile.readlines()]\n",
    "    dates = [(v,d) for v,d in dates if d]\n",
    "    \n",
    "with open('USvideos.csv') as dfile:\n",
    "    header = dfile.readline()\n",
    "    \n",
    "    dates = [(l.strip().split(',')[-6], tuple(l.strip().split(',')[-1].split('.')) \n",
    "             if l.strip().split(',')[1]=='\\\"Apple iPhone X first look\\\"' else None) \n",
    "             for l in dfile.readlines()]\n",
    "    dates = [(v,d) for v,d in dates if d]\n",
    "#     dates = {tuple(l.strip().split(',')[-1].split('.')) for l in dfile.readlines()}\n",
    "#     dates = sorted([(int(m), int(d)) for d,m in dates])\n",
    "    \n",
    "\n",
    "    \n",
    "print(dates)\n",
    "import matplotlib.pyplot as plt\n",
    "vs = [int(d[0]) for d in dates]\n",
    "ds = [vs[i+1]-vs[i] for i in range(len(vs)-1)]\n",
    "plt.plot([int(d[1][0]) for d in dates][1:],ds)\n",
    "plt.show()"
   ]
  },
  {
   "cell_type": "code",
   "execution_count": 33,
   "metadata": {},
   "outputs": [
    {
     "name": "stdout",
     "output_type": "stream",
     "text": [
      "7998\n"
     ]
    }
   ],
   "source": [
    "with open('USvideos.csv') as dfile:\n",
    "    header = dfile.readline()\n",
    "    \n",
    "    data = dfile.readlines()\n",
    "print(len(data))"
   ]
  },
  {
   "cell_type": "markdown",
   "metadata": {},
   "source": [
    "# T1\n",
    ">1\n",
    ">>2\n",
    ">>>3"
   ]
  },
  {
   "cell_type": "code",
   "execution_count": null,
   "metadata": {},
   "outputs": [],
   "source": []
  }
 ],
 "metadata": {
  "kernelspec": {
   "display_name": "Python 3",
   "language": "python",
   "name": "python3"
  },
  "language_info": {
   "codemirror_mode": {
    "name": "ipython",
    "version": 3
   },
   "file_extension": ".py",
   "mimetype": "text/x-python",
   "name": "python",
   "nbconvert_exporter": "python",
   "pygments_lexer": "ipython3",
   "version": "3.6.3"
  }
 },
 "nbformat": 4,
 "nbformat_minor": 2
}
